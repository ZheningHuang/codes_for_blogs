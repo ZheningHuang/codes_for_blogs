{
  "nbformat": 4,
  "nbformat_minor": 0,
  "metadata": {
    "colab": {
      "name": "Transfer Learning",
      "provenance": [],
      "collapsed_sections": [],
      "mount_file_id": "1NQh241SdYQ1bm6FjQdqDfleEkhCLSjvb",
      "authorship_tag": "ABX9TyM7BoW4hUv1deSZb95u6ebN",
      "include_colab_link": true
    },
    "kernelspec": {
      "name": "python3",
      "display_name": "Python 3"
    },
    "language_info": {
      "name": "python"
    }
  },
  "cells": [
    {
      "cell_type": "markdown",
      "metadata": {
        "id": "view-in-github",
        "colab_type": "text"
      },
      "source": [
        "<a href=\"https://colab.research.google.com/github/ZheningHuang/personal_website_blogs_code/blob/main/Transfer_Learning.ipynb\" target=\"_parent\"><img src=\"https://colab.research.google.com/assets/colab-badge.svg\" alt=\"Open In Colab\"/></a>"
      ]
    },
    {
      "cell_type": "code",
      "metadata": {
        "id": "wNrh_Dg8Twox"
      },
      "source": [
        "import numpy as np \n",
        "import pandas as pd \n",
        "import matplotlib.pyplot as plt\n",
        "import glob\n",
        "import cv2\n",
        "import pickle\n",
        "\n",
        "from keras.models import Sequential, Model\n",
        "from keras.layers import Conv2D\n",
        "import os\n",
        "from keras.applications.vgg16 import VGG16"
      ],
      "execution_count": 1,
      "outputs": []
    },
    {
      "cell_type": "code",
      "metadata": {
        "colab": {
          "base_uri": "https://localhost:8080/"
        },
        "id": "xU9IA5BVT5CJ",
        "outputId": "f63675ea-3523-4395-e06c-1c7314b12891"
      },
      "source": [
        "!git clone https://github.com/bnsreenu/python_for_microscopists.git"
      ],
      "execution_count": 4,
      "outputs": [
        {
          "output_type": "stream",
          "text": [
            "Cloning into 'python_for_microscopists'...\n",
            "remote: Enumerating objects: 894, done.\u001b[K\n",
            "remote: Counting objects: 100% (55/55), done.\u001b[K\n",
            "remote: Compressing objects: 100% (55/55), done.\u001b[K\n",
            "remote: Total 894 (delta 22), reused 1 (delta 0), pack-reused 839\u001b[K\n",
            "Receiving objects: 100% (894/894), 83.91 MiB | 27.97 MiB/s, done.\n",
            "Resolving deltas: 100% (293/293), done.\n",
            "Checking out files: 100% (449/449), done.\n"
          ],
          "name": "stdout"
        }
      ]
    },
    {
      "cell_type": "code",
      "metadata": {
        "colab": {
          "base_uri": "https://localhost:8080/"
        },
        "id": "zI1OY-yxUzbX",
        "outputId": "01349dce-e21e-4ce2-d013-b14eeed4c8fe"
      },
      "source": [
        "print(os.listdir(\"/content/python_for_microscopists/images/Train_images\"))"
      ],
      "execution_count": 5,
      "outputs": [
        {
          "output_type": "stream",
          "text": [
            "['Sandstone_Versa0400.tif', 'Sandstone_Versa0050.tif', 'Sandstone_Versa0350.tif', 'Sandstone_Versa0000.tif', 'Sandstone_Versa0200.tif', 'Sandstone_Versa0100.tif', 'Sandstone_Versa0250.tif', 'Sandstone_Versa0300.tif', 'Sandstone_Versa0150.tif']\n"
          ],
          "name": "stdout"
        }
      ]
    },
    {
      "cell_type": "code",
      "metadata": {
        "id": "zq2ad4M-UaWP"
      },
      "source": [
        "#Resizing images is optional, CNNs are ok with large images\n",
        "SIZE_X = 1024 #Resize images (height  = X, width = Y)\n",
        "SIZE_Y = 996"
      ],
      "execution_count": 3,
      "outputs": []
    },
    {
      "cell_type": "code",
      "metadata": {
        "id": "mrEqj0WGUduM"
      },
      "source": [
        "#Capture training image info as a list\n",
        "train_images = []\n",
        "for directory_path in glob.glob(\"/content/python_for_microscopists/images/Train_images\"):\n",
        "    for img_path in glob.glob(os.path.join(directory_path, \"*.tif\")):\n",
        "        img = cv2.imread(img_path, cv2.IMREAD_COLOR)       \n",
        "        img = cv2.resize(img, (SIZE_Y, SIZE_X))\n",
        "        img = cv2.cvtColor(img, cv2.COLOR_RGB2BGR)\n",
        "        train_images.append(img)\n",
        "        #train_labels.append(label)\n",
        "#Convert list to array for machine learning processing        \n",
        "train_images = np.array(train_images)"
      ],
      "execution_count": 6,
      "outputs": []
    },
    {
      "cell_type": "code",
      "metadata": {
        "id": "clJolm8uVEwE"
      },
      "source": [
        "#Capture mask/label info as a list\n",
        "train_masks = [] \n",
        "for directory_path in glob.glob(\"/content/python_for_microscopists/images/Train_masks\"):\n",
        "    for mask_path in glob.glob(os.path.join(directory_path, \"*.tif\")):\n",
        "        mask = cv2.imread(mask_path, 0)       \n",
        "        mask = cv2.resize(mask, (SIZE_Y, SIZE_X))\n",
        "        #mask = cv2.cvtColor(mask, cv2.COLOR_RGB2BGR)\n",
        "        train_masks.append(mask)\n",
        "        #train_labels.append(label)\n",
        "#Convert list to array for machine learning processing          \n",
        "train_masks = np.array(train_masks)"
      ],
      "execution_count": 8,
      "outputs": []
    },
    {
      "cell_type": "code",
      "metadata": {
        "id": "O4d7DlvnVPmc"
      },
      "source": [
        "X_train = train_images\n",
        "y_train = train_masks"
      ],
      "execution_count": 9,
      "outputs": []
    },
    {
      "cell_type": "code",
      "metadata": {
        "colab": {
          "base_uri": "https://localhost:8080/"
        },
        "id": "TLRLkppiVSt4",
        "outputId": "7cca555d-76e8-4734-c16b-51c35b971467"
      },
      "source": [
        "#Load VGG16 model wothout classifier/fully connected layers\n",
        "#Load imagenet weights that we are going to use as feature generators\n",
        "VGG_model = VGG16(weights='imagenet', include_top=False, input_shape=(SIZE_X, SIZE_Y, 3))\n",
        "#make params non-trainable\n",
        "for layer in VGG_model.layers:\n",
        "\tlayer.trainable = False\n",
        "VGG_model.summary()  #Trainable parameters will be 0"
      ],
      "execution_count": 12,
      "outputs": [
        {
          "output_type": "stream",
          "text": [
            "Model: \"vgg16\"\n",
            "_________________________________________________________________\n",
            "Layer (type)                 Output Shape              Param #   \n",
            "=================================================================\n",
            "input_3 (InputLayer)         [(None, 1024, 996, 3)]    0         \n",
            "_________________________________________________________________\n",
            "block1_conv1 (Conv2D)        (None, 1024, 996, 64)     1792      \n",
            "_________________________________________________________________\n",
            "block1_conv2 (Conv2D)        (None, 1024, 996, 64)     36928     \n",
            "_________________________________________________________________\n",
            "block1_pool (MaxPooling2D)   (None, 512, 498, 64)      0         \n",
            "_________________________________________________________________\n",
            "block2_conv1 (Conv2D)        (None, 512, 498, 128)     73856     \n",
            "_________________________________________________________________\n",
            "block2_conv2 (Conv2D)        (None, 512, 498, 128)     147584    \n",
            "_________________________________________________________________\n",
            "block2_pool (MaxPooling2D)   (None, 256, 249, 128)     0         \n",
            "_________________________________________________________________\n",
            "block3_conv1 (Conv2D)        (None, 256, 249, 256)     295168    \n",
            "_________________________________________________________________\n",
            "block3_conv2 (Conv2D)        (None, 256, 249, 256)     590080    \n",
            "_________________________________________________________________\n",
            "block3_conv3 (Conv2D)        (None, 256, 249, 256)     590080    \n",
            "_________________________________________________________________\n",
            "block3_pool (MaxPooling2D)   (None, 128, 124, 256)     0         \n",
            "_________________________________________________________________\n",
            "block4_conv1 (Conv2D)        (None, 128, 124, 512)     1180160   \n",
            "_________________________________________________________________\n",
            "block4_conv2 (Conv2D)        (None, 128, 124, 512)     2359808   \n",
            "_________________________________________________________________\n",
            "block4_conv3 (Conv2D)        (None, 128, 124, 512)     2359808   \n",
            "_________________________________________________________________\n",
            "block4_pool (MaxPooling2D)   (None, 64, 62, 512)       0         \n",
            "_________________________________________________________________\n",
            "block5_conv1 (Conv2D)        (None, 64, 62, 512)       2359808   \n",
            "_________________________________________________________________\n",
            "block5_conv2 (Conv2D)        (None, 64, 62, 512)       2359808   \n",
            "_________________________________________________________________\n",
            "block5_conv3 (Conv2D)        (None, 64, 62, 512)       2359808   \n",
            "_________________________________________________________________\n",
            "block5_pool (MaxPooling2D)   (None, 32, 31, 512)       0         \n",
            "=================================================================\n",
            "Total params: 14,714,688\n",
            "Trainable params: 0\n",
            "Non-trainable params: 14,714,688\n",
            "_________________________________________________________________\n"
          ],
          "name": "stdout"
        }
      ]
    },
    {
      "cell_type": "code",
      "metadata": {
        "colab": {
          "base_uri": "https://localhost:8080/"
        },
        "id": "iV11RngIVfvJ",
        "outputId": "6da5586a-0c90-441a-fcaa-1c9e5a32b0d8"
      },
      "source": [
        "#After the first 2 convolutional layers the image dimension changes. \n",
        "#So for easy comparison to Y (labels) let us only take first 2 conv layers\n",
        "#and create a new model to extract features\n",
        "#New model with only first 2 conv layers\n",
        "#to make the training images same dimension as mask images\n",
        "new_model = Model(inputs=VGG_model.input, outputs=VGG_model.get_layer('block1_conv2').output)\n",
        "new_model.summary()"
      ],
      "execution_count": 13,
      "outputs": [
        {
          "output_type": "stream",
          "text": [
            "Model: \"model\"\n",
            "_________________________________________________________________\n",
            "Layer (type)                 Output Shape              Param #   \n",
            "=================================================================\n",
            "input_3 (InputLayer)         [(None, 1024, 996, 3)]    0         \n",
            "_________________________________________________________________\n",
            "block1_conv1 (Conv2D)        (None, 1024, 996, 64)     1792      \n",
            "_________________________________________________________________\n",
            "block1_conv2 (Conv2D)        (None, 1024, 996, 64)     36928     \n",
            "=================================================================\n",
            "Total params: 38,720\n",
            "Trainable params: 0\n",
            "Non-trainable params: 38,720\n",
            "_________________________________________________________________\n"
          ],
          "name": "stdout"
        }
      ]
    },
    {
      "cell_type": "code",
      "metadata": {
        "id": "oppoPVDFVog1"
      },
      "source": [
        "#Now, let us apply feature extractor to our training data\n",
        "features=new_model.predict(X_train)"
      ],
      "execution_count": 14,
      "outputs": []
    },
    {
      "cell_type": "code",
      "metadata": {
        "id": "9BIAS7sRbR-n"
      },
      "source": [
        "features"
      ],
      "execution_count": null,
      "outputs": []
    },
    {
      "cell_type": "code",
      "metadata": {
        "colab": {
          "base_uri": "https://localhost:8080/",
          "height": 252
        },
        "id": "atoG4PjBZsv9",
        "outputId": "93de829d-c957-4c7e-a207-ec66755c5e21"
      },
      "source": [
        "#Plot features to view them\n",
        "square = 8\n",
        "ix=1\n",
        "for _ in range(square):\n",
        "    for _ in range(square):\n",
        "        ax = plt.subplot(square, square, ix)\n",
        "        ax.set_xticks([])\n",
        "        ax.set_yticks([])\n",
        "        plt.imshow(features[0,:,:,ix-1], cmap='gray')\n",
        "        ix +=1\n",
        "plt.show()"
      ],
      "execution_count": 16,
      "outputs": [
        {
          "output_type": "display_data",
          "data": {
            "image/png": "[encoded data removed]",
            "text/plain": [
              "<Figure size 432x288 with 64 Axes>"
            ]
          },
          "metadata": {
            "tags": []
          }
        }
      ]
    },
    {
      "cell_type": "code",
      "metadata": {
        "id": "QCl4FQWNbc-A"
      },
      "source": [
        "#so far we have all new feature from tranfer learning. Now lets do random forest classification model"
      ],
      "execution_count": null,
      "outputs": []
    },
    {
      "cell_type": "code",
      "metadata": {
        "colab": {
          "base_uri": "https://localhost:8080/"
        },
        "id": "WvmaQH_8Z6Ts",
        "outputId": "e115b1e9-3013-498f-e5cf-9ab05690f60a"
      },
      "source": [
        "#Reassign 'features' as X to make it easy to follow\n",
        "X=features\n",
        "X = X.reshape(-1, X.shape[3])  #Make it compatible for Random Forest and match Y labels\n",
        "\n",
        "#Reshape Y to match X\n",
        "Y = y_train.reshape(-1)\n",
        "\n",
        "#Combine X and Y into a dataframe to make it easy to drop all rows with Y values 0\n",
        "#In our labels Y values 0 = unlabeled pixels. \n",
        "dataset = pd.DataFrame(X)\n",
        "dataset['Label'] = Y\n",
        "print(dataset['Label'].unique())\n",
        "print(dataset['Label'].value_counts())\n",
        "##If we do not want to include pixels with value 0 \n",
        "##e.g. Sometimes unlabeled pixels may be given a value 0.\n",
        "dataset = dataset[dataset['Label'] != 0]\n",
        "\n",
        "#Redefine X and Y for Random Forest\n",
        "X_for_RF = dataset.drop(labels = ['Label'], axis=1)\n",
        "Y_for_RF = dataset['Label']"
      ],
      "execution_count": 17,
      "outputs": [
        {
          "output_type": "stream",
          "text": [
            "[ 76 150  29 179]\n",
            "76     4443349\n",
            "29     4199361\n",
            "150     368860\n",
            "179     167566\n",
            "Name: Label, dtype: int64\n"
          ],
          "name": "stdout"
        }
      ]
    },
    {
      "cell_type": "code",
      "metadata": {
        "id": "c5pzAZF0Z9gj"
      },
      "source": [
        "\n",
        "#RANDOM FOREST\n",
        "from sklearn.ensemble import RandomForestClassifier\n",
        "model = RandomForestClassifier(n_estimators = 50, random_state = 42)\n",
        "\n",
        "# Train the model on training data\n",
        "model.fit(X_for_RF, Y_for_RF) "
      ],
      "execution_count": null,
      "outputs": []
    },
    {
      "cell_type": "code",
      "metadata": {
        "id": "Ppio_o3Uckp_"
      },
      "source": [
        "#Save model for future use\n",
        "filename = 'RF_model.sav'\n",
        "pickle.dump(model, open(filename, 'wb'))\n",
        "\n",
        "#Load model.... \n",
        "loaded_model = pickle.load(open(filename, 'rb'))"
      ],
      "execution_count": null,
      "outputs": []
    },
    {
      "cell_type": "code",
      "metadata": {
        "id": "T03jG1ZEciHe"
      },
      "source": [
        "#Test on a different image\n",
        "#READ EXTERNAL IMAGE...\n",
        "test_img = cv2.imread('/content/python_for_microscopists/images/Train_images/Sandstone_Versa0000.tif', cv2.IMREAD_COLOR)       \n",
        "test_img = cv2.resize(test_img, (SIZE_Y, SIZE_X))\n",
        "test_img = cv2.cvtColor(test_img, cv2.COLOR_RGB2BGR)\n",
        "test_img = np.expand_dims(test_img, axis=0)\n",
        "\n",
        "#predict_image = np.expand_dims(X_train[8,:,:,:], axis=0)\n",
        "X_test_feature = new_model.predict(test_img)\n",
        "X_test_feature = X_test_feature.reshape(-1, X_test_feature.shape[3])\n",
        "\n",
        "prediction = loaded_model.predict(X_test_feature)\n",
        "\n",
        "#View and Save segmented image\n",
        "prediction_image = prediction.reshape(mask.shape)\n",
        "plt.imshow(prediction_image, cmap='gray')\n",
        "plt.imsave('360_segmented.jpg', prediction_image, cmap='gray')\n"
      ],
      "execution_count": null,
      "outputs": []
    }
  ]
}